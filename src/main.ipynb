{
 "cells": [
  {
   "cell_type": "code",
   "execution_count": 12,
   "metadata": {},
   "outputs": [],
   "source": [
    "from selenium import webdriver\n",
    "from selenium.webdriver.common.by import By\n",
    "from selenium.webdriver.support import expected_conditions as EC\n",
    "from selenium.webdriver.support.ui import WebDriverWait\n",
    "\n",
    "# 0.1초~0.3초 사이의 랜덤한 시간을 주어서 자동화를 인식하지 못하게 함\n",
    "import time\n",
    "import random\n",
    "\n",
    "time.sleep(random.uniform(0.1, 0.3))"
   ]
  },
  {
   "cell_type": "code",
   "execution_count": 9,
   "metadata": {},
   "outputs": [],
   "source": [
    "URL = \"INSERT_YOUR_URL\""
   ]
  },
  {
   "cell_type": "code",
   "execution_count": 10,
   "metadata": {},
   "outputs": [],
   "source": [
    "browser = webdriver.Chrome()\n",
    "browser.get(URL)"
   ]
  },
  {
   "cell_type": "code",
   "execution_count": 6,
   "metadata": {},
   "outputs": [],
   "source": [
    "import pyautogui\n",
    "import time"
   ]
  },
  {
   "cell_type": "code",
   "execution_count": 9,
   "metadata": {},
   "outputs": [
    {
     "name": "stdout",
     "output_type": "stream",
     "text": [
      "Defaulting to user installation because normal site-packages is not writeable\n",
      "Requirement already satisfied: pillow in /Users/being/Library/Python/3.9/lib/python/site-packages (10.0.1)\n",
      "Collecting pillow\n",
      "  Downloading pillow-10.3.0-cp39-cp39-macosx_11_0_arm64.whl (3.4 MB)\n",
      "\u001b[K     |████████████████████████████████| 3.4 MB 2.7 MB/s eta 0:00:01\n",
      "\u001b[?25hInstalling collected packages: pillow\n",
      "  Attempting uninstall: pillow\n",
      "    Found existing installation: Pillow 10.0.1\n",
      "    Uninstalling Pillow-10.0.1:\n",
      "      Successfully uninstalled Pillow-10.0.1\n",
      "\u001b[31mERROR: pip's dependency resolver does not currently take into account all the packages that are installed. This behaviour is the source of the following dependency conflicts.\n",
      "boxmot 10.0.43 requires scikit-learn>=1.3.0, but you have scikit-learn 1.2.2 which is incompatible.\u001b[0m\n",
      "Successfully installed pillow-10.3.0\n",
      "\u001b[33mWARNING: You are using pip version 21.2.4; however, version 24.0 is available.\n",
      "You should consider upgrading via the '/Applications/Xcode.app/Contents/Developer/usr/bin/python3 -m pip install --upgrade pip' command.\u001b[0m\n",
      "Note: you may need to restart the kernel to use updated packages.\n"
     ]
    }
   ],
   "source": [
    "# pip install --upgrade pillow"
   ]
  },
  {
   "cell_type": "code",
   "execution_count": 1,
   "metadata": {},
   "outputs": [
    {
     "name": "stdout",
     "output_type": "stream",
     "text": [
      "The color of the pixel at (100, 200) is (106, 106, 106, 255)\n"
     ]
    }
   ],
   "source": [
    "import pyautogui\n",
    "import time\n",
    "from PIL import ImageGrab\n",
    "\n",
    "def click_at_position(x, y):\n",
    "    # 마우스를 지정된 좌표로 이동하고 클릭\n",
    "    pyautogui.moveTo(x, y)\n",
    "    pyautogui.click()\n",
    "\n",
    "def get_pixel_color(x, y):\n",
    "    # 지정된 좌표의 픽셀 값을 가져옴\n",
    "    screenshot = ImageGrab.grab()\n",
    "    return screenshot.getpixel((x, y))\n",
    "\n",
    "# 클릭할 좌표\n",
    "x, y = 971, 709\n",
    "\n",
    "# 지정된 좌표에서 마우스 클릭\n",
    "click_at_position(x, y)\n",
    "\n",
    "# 클릭 후 잠시 대기\n",
    "time.sleep(2)\n",
    "\n",
    "# 지정된 좌표의 픽셀 값 가져오기\n",
    "pixel_color = get_pixel_color(x, y)\n",
    "print(f\"The color of the pixel at ({x}, {y}) is {pixel_color}\")"
   ]
  },
  {
   "cell_type": "code",
   "execution_count": 3,
   "metadata": {},
   "outputs": [
    {
     "data": {
      "text/plain": [
       "True"
      ]
     },
     "execution_count": 3,
     "metadata": {},
     "output_type": "execute_result"
    }
   ],
   "source": [
    "pixel_color == (106, 106, 106, 255)"
   ]
  },
  {
   "cell_type": "code",
   "execution_count": 15,
   "metadata": {},
   "outputs": [
    {
     "name": "stdout",
     "output_type": "stream",
     "text": [
      "Point(x=803, y=304)\n"
     ]
    }
   ],
   "source": [
    "# 2초뒤 마우스 포인터 위치 추적 - Zoom을 여시겠습니까\n",
    "time.sleep(2)\n",
    "print(pyautogui.position())"
   ]
  },
  {
   "cell_type": "code",
   "execution_count": 16,
   "metadata": {},
   "outputs": [
    {
     "name": "stdout",
     "output_type": "stream",
     "text": [
      "Point(x=978, y=708)\n"
     ]
    }
   ],
   "source": [
    "# 2초뒤 마우스 포인터 위치 추적 - 참가\n",
    "time.sleep(2)\n",
    "print(pyautogui.position())"
   ]
  },
  {
   "cell_type": "code",
   "execution_count": 18,
   "metadata": {},
   "outputs": [
    {
     "name": "stdout",
     "output_type": "stream",
     "text": [
      "Point(x=983, y=456)\n"
     ]
    }
   ],
   "source": [
    "# 2초뒤 마우스 포인터 위치 추적 - 컴퓨터 오디오오로 참가\n",
    "time.sleep(2)\n",
    "print(pyautogui.position())"
   ]
  },
  {
   "cell_type": "code",
   "execution_count": null,
   "metadata": {},
   "outputs": [],
   "source": [
    "# 지정된 좌표의 픽셀 값 가져오기\n",
    "pixel_color = get_pixel_color(x, y)\n",
    "print(f\"The color of the pixel at ({x}, {y}) is {pixel_color}\")"
   ]
  }
 ],
 "metadata": {
  "kernelspec": {
   "display_name": "Python 3",
   "language": "python",
   "name": "python3"
  },
  "language_info": {
   "codemirror_mode": {
    "name": "ipython",
    "version": 3
   },
   "file_extension": ".py",
   "mimetype": "text/x-python",
   "name": "python",
   "nbconvert_exporter": "python",
   "pygments_lexer": "ipython3",
   "version": "3.9.6"
  }
 },
 "nbformat": 4,
 "nbformat_minor": 2
}
